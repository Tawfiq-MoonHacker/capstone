{
 "cells": [
  {
   "cell_type": "code",
   "execution_count": 111,
   "metadata": {},
   "outputs": [],
   "source": [
    "import os\n",
    "from getpass import getpass\n",
    "from semantic_router import RouteLayer\n",
    "from semantic_router.encoders import HuggingFaceEncoder\n",
    "from transformers import RobertaTokenizer, RobertaForSequenceClassification"
   ]
  },
  {
   "cell_type": "code",
   "execution_count": 112,
   "metadata": {},
   "outputs": [],
   "source": [
    "# Replace the following line with the appropriate Hugging Face model name\n",
    "model_name = \"FacebookAI/roberta-base\"  # Example model name, replace with desired model\n",
    "encoder = HuggingFaceEncoder(model_name=model_name)"
   ]
  },
  {
   "cell_type": "code",
   "execution_count": 113,
   "metadata": {},
   "outputs": [],
   "source": [
    "from semantic_router import Route\n",
    "\n",
    "# we could use this as a guide for our chatbot to avoid political conversations\n",
    "politics = Route(\n",
    "    name=\"handbook\",\n",
    "    utterances=[\n",
    "        \"What are the academic requirements for undergraduate admission to the University of Michigan?\",\n",
    "        \"How does the University of Michigan define residency for tuition purposes?\",\n",
    "        \"What are the procedures for undergraduate students to declare or change their major?\",\n",
    "        \"Can students pursue double majors or minors at the University of Michigan, and if so, what are the requirements?\",\n",
    "        \"What types of financial aid are available to undergraduate students at the University of Michigan, and how can students apply for them?\",\n",
    "        \"What academic support services does the University of Michigan offer to students, such as tutoring, advising, or study groups?\",\n",
    "        \"What are the policies and procedures for academic probation and dismissal at the University of Michigan?\",\n",
    "        \"Are there opportunities for undergraduate students to participate in research or internships, and how can they get involved?\",\n",
    "        \"What are the requirements and options for housing and dining plans for students living on campus at the University of Michigan?\",\n",
    "        \"How does the University of Michigan address issues related to diversity, equity, and inclusion on campus, and what resources are available to support students from underrepresented backgrounds?\"\n",
    "    ],\n",
    ")\n",
    "\n",
    "# this could be used as an indicator to our chatbot to switch to a more\n",
    "# conversational prompt\n",
    "chitchat = Route(\n",
    "    name=\"syllabus\",\n",
    "    utterances=[\n",
    "        'what fundamental concepts and tools are covered, and how do they lay the groundwork for more advanced coursework?',\n",
    "        'Can you provide details about the curriculum and assignments?',\n",
    "        'How does the course integrate statistical theory with practical applications in data analysis, and what programming languages are utilized?',\n",
    "        'In the \"Big Data Processing and Analytics\" course, what technologies and platforms are explored for managing and analyzing large-scale datasets, and what hands-on projects are included?',\n",
    "        'Can you describe the syllabus?',\n",
    "        'How much is the mark for assignment 2 ?',\n",
    "        'How are the assignments distributed ? ',\n",
    "        'How does the course address challenges specific to processing unstructured text data, and what real-world applications are discussed?',\n",
    "        'In the \"Advanced Topics in Data Science\" course, what cutting-edge methodologies or research areas are explored, and how do they contribute to the field of data science?',\n",
    "        'Can you provide an overview of the elective courses available within the Applied Data Science program, and how do they allow students to tailor their studies to their interests or career goals?',\n",
    "        'How does the program incorporate practical experience through internships, capstone projects, or industry collaborations, and what opportunities are available for students to gain hands-on experience?',\n",
    "        'How does the curriculum address ethical considerations and societal implications of data science, particularly in courses like \"Ethics in Data Science\" or \"Privacy and Security in Data\"?'\n",
    "    ],\n",
    ")\n",
    "\n",
    "# we place both of our decisions together into single list\n",
    "routes = [politics, chitchat]"
   ]
  },
  {
   "cell_type": "code",
   "execution_count": 114,
   "metadata": {},
   "outputs": [
    {
     "name": "stderr",
     "output_type": "stream",
     "text": [
      "\u001b[32m2024-03-22 16:11:26 INFO semantic_router.utils.logger local\u001b[0m\n"
     ]
    }
   ],
   "source": [
    "from semantic_router.layer import RouteLayer\n",
    "\n",
    "rl = RouteLayer(encoder=encoder, routes=routes)"
   ]
  },
  {
   "cell_type": "code",
   "execution_count": 115,
   "metadata": {},
   "outputs": [
    {
     "data": {
      "text/plain": [
       "'syllabus'"
      ]
     },
     "execution_count": 115,
     "metadata": {},
     "output_type": "execute_result"
    }
   ],
   "source": [
    "rl(\"Describe the syllabus for siads-523\").name\n"
   ]
  },
  {
   "cell_type": "code",
   "execution_count": 116,
   "metadata": {},
   "outputs": [
    {
     "name": "stdout",
     "output_type": "stream",
     "text": [
      "tensor([[  9.4506],\n",
      "        [-11.1605]])\n"
     ]
    }
   ],
   "source": [
    "from transformers import AutoTokenizer, AutoModelForSequenceClassification\n",
    "import torch\n",
    "\n",
    "model = AutoModelForSequenceClassification.from_pretrained('cross-encoder/ms-marco-MiniLM-L-12-v2')\n",
    "tokenizer = AutoTokenizer.from_pretrained('cross-encoder/ms-marco-MiniLM-L-12-v2')\n",
    "\n",
    "features = tokenizer(['How many people live in Berlin?', 'How many people live in Berlin?'], ['Berlin has a population of 3,520,031 registered inhabitants in an area of 891.82 square kilometers.', 'New York City is famous for the Metropolitan Museum of Art.'],  padding=True, truncation=True, return_tensors=\"pt\")\n",
    "\n",
    "model.eval()\n",
    "with torch.no_grad():\n",
    "    scores = model(**features).logits\n",
    "    print(scores)"
   ]
  },
  {
   "cell_type": "code",
   "execution_count": 120,
   "metadata": {},
   "outputs": [
    {
     "name": "stdout",
     "output_type": "stream",
     "text": [
      "[ -9.715397  -6.222407 -10.756883 -10.353505  -9.864408 -10.829663\n",
      " -11.114125 -10.674078 -10.627038 -10.923809]\n",
      "average score:  -10.108131265640258\n"
     ]
    }
   ],
   "source": [
    "from sentence_transformers import CrossEncoder\n",
    "model = CrossEncoder('cross-encoder/ms-marco-MiniLM-L-12-v2', max_length=512)\n",
    "\n",
    "handbook = [\n",
    "        \"What are the academic requirements for undergraduate admission to the University of Michigan?\",\n",
    "        \"How does the University of Michigan define residency for tuition purposes?\",\n",
    "        \"What are the procedures for undergraduate students to declare or change their major?\",\n",
    "        \"Can students pursue double majors or minors at the University of Michigan, and if so, what are the requirements?\",\n",
    "        \"What types of financial aid are available to undergraduate students at the University of Michigan, and how can students apply for them?\",\n",
    "        \"What academic support services does the University of Michigan offer to students, such as tutoring, advising, or study groups?\",\n",
    "        \"What are the policies and procedures for academic probation and dismissal at the University of Michigan?\",\n",
    "        \"Are there opportunities for undergraduate students to participate in research or internships, and how can they get involved?\",\n",
    "        \"What are the requirements and options for housing and dining plans for students living on campus at the University of Michigan?\",\n",
    "        \"How does the University of Michigan address issues related to diversity, equity, and inclusion on campus, and what resources are available to support students from underrepresented backgrounds?\"\n",
    "    ]\n",
    "\n",
    "query = 'how is the tuition ?'\n",
    "predictions = []\n",
    "\n",
    "for element in handbook:\n",
    "    predictions.append((query,element))\n",
    "    \n",
    "scores = model.predict(predictions)\n",
    "\n",
    "print(scores)\n",
    "print(\"average score: \", sum(scores)/len(scores))\n"
   ]
  }
 ],
 "metadata": {
  "kernelspec": {
   "display_name": ".venv",
   "language": "python",
   "name": "python3"
  },
  "language_info": {
   "codemirror_mode": {
    "name": "ipython",
    "version": 3
   },
   "file_extension": ".py",
   "mimetype": "text/x-python",
   "name": "python",
   "nbconvert_exporter": "python",
   "pygments_lexer": "ipython3",
   "version": "3.10.11"
  }
 },
 "nbformat": 4,
 "nbformat_minor": 2
}
