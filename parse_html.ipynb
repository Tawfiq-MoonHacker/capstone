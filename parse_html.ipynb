{
 "cells": [
  {
   "cell_type": "code",
   "execution_count": null,
   "metadata": {},
   "outputs": [],
   "source": [
    "from bs4 import BeautifulSoup\n",
    "\n",
    "\n",
    "def extract_text_from_html(file_path):\n",
    "    try:\n",
    "        with open(file_path, \"r\", encoding=\"utf-8\") as file:\n",
    "            html_content = file.read()\n",
    "    except:\n",
    "        return f\"Course Syllabus does not exist at: {file_path}\"\n",
    "\n",
    "    soup = BeautifulSoup(html_content, \"lxml\")\n",
    "\n",
    "    # For now, we'll just get all the text\n",
    "    text = soup.get_text(separator=\" \", strip=True)\n",
    "\n",
    "    return text\n",
    "\n",
    "\n",
    "file_path = \"./syllabi/2021-09_505.html\"\n",
    "extracted_text = extract_text_from_html(file_path)\n",
    "\n",
    "print(extracted_text)"
   ]
  },
  {
   "cell_type": "code",
   "execution_count": null,
   "metadata": {},
   "outputs": [],
   "source": [
    "course_records = [\n",
    "    (\"2021-09\", \"505\"),\n",
    "    (\"2021-10\", \"502\"),\n",
    "    (\"2021-10\", \"515\"),\n",
    "    (\"2021-11\", \"521\"), # This one is listed under week 1 and doesn't have a reference in \"resources\"\n",
    "    (\"2021-12\", \"532\"),\n",
    "    (\"2022-01\", \"501\"),\n",
    "    (\"2022-01\", \"511\"),\n",
    "    (\"2022-02\", \"522\"),\n",
    "    (\"2022-03\", \"503\"),\n",
    "    (\"2022-04\", \"523\"),\n",
    "    (\"2022-05\", \"542\"), # This one is listed under week 1 materials\n",
    "    (\"2022-06\", \"543\"), # This one is listed under week 1 materials\n",
    "    (\"2022-06\", \"611\"),\n",
    "    (\"2022-07\", \"516\"),\n",
    "    (\"2022-08\", \"622\"),\n",
    "    (\"2022-09\", \"593\"),\n",
    "    (\"2022-11\", \"631\"),\n",
    "    (\"2023-01\", \"652\"), # pdf\n",
    "    (\"2023-02\", \"632\"),\n",
    "    (\"2023-02\", \"673\"), # This was just a link to a Google Doc, which I downloaded as a pdf\n",
    "    (\"2023-03\", \"642\"),\n",
    "    (\"2023-03\", \"643\"), # This was just a link to a Google Doc, which I downloaded as a pdf\n",
    "    (\"2023-04\", \"655\"), # This one is listed under week 1 materials\n",
    "    (\"2023-05\", \"524\"),\n",
    "    (\"2023-06\", \"601\"),\n",
    "    (\"2023-06\", \"630\"),\n",
    "    (\"2023-09\", \"696\"), # This is a pdf on in a Google Drive folder that I no longer have access to, luckily I kept a copy that I downloaded during the class\n",
    "    (\"2023-11\", \"682\"),\n",
    "    (\"2023-12\", \"688\"),\n",
    "    (\"2024-02\", \"699\"), # This was just a link to a Google Doc, which I downloaded as a pdf\n",
    "]\n",
    "\n",
    "courses = [f\"{date}_{num}\" for date, num in course_records]"
   ]
  },
  {
   "cell_type": "code",
   "execution_count": null,
   "metadata": {},
   "outputs": [],
   "source": [
    "for course in courses:\n",
    "    text = extract_text_from_html(f\"./syllabi/{course}.html\")\n",
    "\n",
    "    print(text)"
   ]
  }
 ],
 "metadata": {
  "kernelspec": {
   "display_name": ".venv",
   "language": "python",
   "name": "python3"
  },
  "language_info": {
   "codemirror_mode": {
    "name": "ipython",
    "version": 3
   },
   "file_extension": ".py",
   "mimetype": "text/x-python",
   "name": "python",
   "nbconvert_exporter": "python",
   "pygments_lexer": "ipython3",
   "version": "3.11.3"
  }
 },
 "nbformat": 4,
 "nbformat_minor": 2
}
