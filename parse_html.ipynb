{
 "cells": [
  {
   "cell_type": "code",
   "execution_count": 1,
   "metadata": {},
   "outputs": [
    {
     "name": "stdout",
     "output_type": "stream",
     "text": [
      "Course Overview and Prerequisites This course will introduce data manipulation and cleaning techniques using the popular python pandas data science library and introduce the abstraction of the Series and DataFrame as the central data structures for data analysis, along with an understanding of how to use functions such as groupby, merge, and pivot tables effectively. By the end of this course, students will be able to take tabular data, clean it, manipulate it, and run basic inferential statistical analyses. There are no course prerequisites. Instructor and Course Assistants Instructor: Chris Brooks (brooksch@umich.edu) Course Support: Zihan Wu; Anthony Giove; Greg Myers Course Schedule This course begins on Monday, August 30, 2021, and ends on Sunday, September 26, 2021 . Assignments will be due as noted in the Coursera platform (roughly weekly, on Sundays at 11:59pm EST) . Office hours will be held weekly and all office hours will have the same passcode 505 . Contacting instructor and course assistant : Please only use the course channel in Slack. Please ask all questions in public if possible so others can learn from your question. If you need to ask a private question please direct message both the instructor and the course assistants. Email response time : 48 hours Slack response time : 48 hours Office hours : as noted in the Coursera platform Required Textbook Python for Data Analysis: Data Wrangling with Pandas, NumPy, and iPython 2nd edition by Wes McKinney (O’Reilly). Copyright 2017 Wes McKinney, 978-1-491-95766-0. Textbook link provided above allows free usage through the University of Michigan Library. University credentials required. Learning Outcomes Create and use pandas DataFrames to represent raw data Extract information from text data using regular expressions Understand high level patterns of data cleaning and how they are realized in python Understand how other formats embed semantics in data and how one can approach representing them in tabular formats Understand the issues of replication in data science and how it starts with data manipulation Have an awareness of other kinds of structured data such as networks, graphs, natural language Grading Course Assignment Percentage of Final Grade Week 1 Jupyter Notebook Assignments, part 1, 2, and 3 25% (total) Week 2 Jupyter Notebook Assignment, part 1, 2, and 3 25% (total) Week 3 Jupyter Notebook Assignment 25% Week 4 Jupyter Notebook Assignment 25% All assignments can be resubmitted as many times as you like up until the assignment deadline with the best submission counting towards your grade. Letter Grades, Course Grades, and Late Submission Policy Refer to the MADS Assignment Submission and Grading Policies section of the UMSI Student Handbook (access to Student Orientation course required) For this course, no late assignments will be accepted (0%). Extenuating circumstances will be considered (please reach out to the instructor as soon as possible). Percentage grades will be converted to letter grades using the following formula (Note that an A+ is only awarded by doing a bonus!): Total Assignment Scores Letter Equivalent >100 A+ 95-100 A 90-95 A- 85-90 B+ 80-85 B 75-80 B- 70-75 C+ 65-70 C 60-65 C- 55-60 D+ 50-55 D <50 E Accommodations Refer to the Accommodations for Students with Disabilities section of the UMSI Student Handbook (access to the Student Orientation course required). Use the Student Intake Form to begin the process of working with the University’s Office of Services for Students with Disabilities. Accessibility Screen reader configuration for Jupyter Notebook Content Help Desk(s): How to get Help Degree program questions or general help - umsimadshelp@umich.edu Coursera’s Technical Support (24/7) - https://learner.coursera.help/ Library Access Refer to the U-M Library’s information sheet on accessing library resources from off-campus. For more information regarding library support services, please refer to the U-M Library Resources section of the UMSI Student Handbook (access to the Student Orientation course required). Student Mental Health Refer to the University’s Resources for Stress and Mental Health website for a listing of resources for students. Student Services Refer to the Introduction to UMSI Student Life section of the UMSI Student Handbook (access to the Student Orientation course required). Refer to the Introduction to UMSI Student Life section of the UMSI Student Handbook (access to the Student Orientation course required).\n"
     ]
    }
   ],
   "source": [
    "from bs4 import BeautifulSoup\n",
    "\n",
    "\n",
    "def extract_text_from_html(file_path):\n",
    "    with open(file_path, \"r\", encoding=\"utf-8\") as file:\n",
    "        html_content = file.read()\n",
    "\n",
    "    soup = BeautifulSoup(html_content, \"lxml\")\n",
    "\n",
    "    # For now, we'll just get all the text\n",
    "    text = soup.get_text(separator=\" \", strip=True)\n",
    "\n",
    "    return text\n",
    "\n",
    "\n",
    "file_path = \"./syllabi/2021-09_505.html\"\n",
    "extracted_text = extract_text_from_html(file_path)\n",
    "\n",
    "print(extracted_text)"
   ]
  }
 ],
 "metadata": {
  "kernelspec": {
   "display_name": ".venv",
   "language": "python",
   "name": "python3"
  },
  "language_info": {
   "codemirror_mode": {
    "name": "ipython",
    "version": 3
   },
   "file_extension": ".py",
   "mimetype": "text/x-python",
   "name": "python",
   "nbconvert_exporter": "python",
   "pygments_lexer": "ipython3",
   "version": "3.11.3"
  }
 },
 "nbformat": 4,
 "nbformat_minor": 2
}
